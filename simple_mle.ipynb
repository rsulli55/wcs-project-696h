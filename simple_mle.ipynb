{
 "cells": [
  {
   "cell_type": "code",
   "execution_count": 4,
   "id": "1dfed16e-2942-4468-9c3b-bd9969190363",
   "metadata": {},
   "outputs": [
    {
     "name": "stdout",
     "output_type": "stream",
     "text": [
      "building word count and term map for lang  16\n",
      "LANG 16 ABBREV D has more than one term\n",
      "LANG 16 ABBREV L has more than one term\n",
      "LANG 16 ABBREV K has more than one term\n",
      "LANG 16 ABBREV N has more than one term\n",
      "LANG 16 ABBREV G has more than one term\n",
      "LANG 16 ABBREV X has more than one term\n",
      "LANG 16 ABBREV I has more than one term\n"
     ]
    }
   ],
   "source": [
    "import wcs\n",
    "from wcs import TermData\n",
    "import numpy as np\n",
    "import matplotlib.pyplot as plt\n",
    "from matplotlib.colors import ListedColormap\n",
    "from collections import namedtuple\n",
    "\n",
    "CONTESTED_MLE = TermData(term=-2, abbrev='Co', translation='Contested')\n",
    "NO_MLE = TermData(term=-1, abbrev=\"No\", translation=\"None\")\n",
    "\n",
    "word_counts = {}\n",
    "term_maps = {}\n",
    "langs = [16]\n",
    "# for lang in wcs.ALL_LANGS:\n",
    "for lang in langs:\n",
    "    print(\"building word count and term map for lang \", lang)\n",
    "    word_counts[lang] = wcs.build_word_count(lang)\n",
    "    term_maps[lang] = wcs.build_term_map(lang)"
   ]
  },
  {
   "cell_type": "code",
   "execution_count": 52,
   "id": "24b08e2f-d311-4289-8b8c-8be07fdd802b",
   "metadata": {},
   "outputs": [],
   "source": [
    "def build_simple_mle(word_count, term_map):\n",
    "    \"\"\"Returns a map of chipnum -> TermData where each\n",
    "    chipnum is mapped to the majority term for that chip,\n",
    "    if there is no majority, it is mapped to CONTESTED_MLE\"\"\"\n",
    "    mles = {}\n",
    "    \n",
    "    for chip in wcs.ALL_CHIPS:\n",
    "        terms = np.argwhere(word_count[:, chip-1] == np.max(word_count[:, chip-1]))\n",
    "        if len(terms) > 1:\n",
    "            print(\"Chip {} was contested\".format(chip))\n",
    "            mles[chip] = CONTESTED_MLE\n",
    "        else:\n",
    "            term = terms[0,0]\n",
    "            mles[chip] = term_map[term+1]\n",
    "            \n",
    "        # print(\"Row data for chip {}\".format(chip))\n",
    "        # print(word_count[:, chip-1])\n",
    "        # print(\"for chip {} got mle = {}\".format(chip, mle[chip]))\n",
    "    \n",
    "    return mles\n",
    "\n",
    "def get_BCTs(mles):\n",
    "    \"\"\"From the mles return the TermData for each MLE term\"\"\"\n",
    "    bcts = set(mles.values())\n",
    "    bcts.remove(CONTESTED_MLE)\n",
    "    return list(bcts)\n",
    "    \n",
    "        \n",
    "def simple_mle_grid(mles, lang):\n",
    "    # plot the wcs grid with the mle estimate\n",
    "    fig, ax = plt.subplots()\n",
    "    num_cols = 41\n",
    "    num_rows = len('ABCDEFGHIJ')\n",
    "    X, Y = np.meshgrid(np.arange(num_cols), np.arange(num_rows))\n",
    "    Z = np.zeros((num_rows, num_cols), dtype=int)\n",
    "   \n",
    "    cmap_list = ['xkcd:pale yellow', 'white', 'xkcd:light pink', 'xkcd:peach', 'xkcd:beige',\n",
    "                 'xkcd:salmon', 'xkcd:lilac', \n",
    "                 'xkcd:tan', 'xkcd:puke green', 'xkcd:rose',\n",
    "                 'xkcd:seafoam green', 'xkcd:mint green', 'xkcd:baby blue',\n",
    "                 'xkcd:olive', 'xkcd:forest green', 'xkcd:deep blue',\n",
    "                 'xkcd:purple blue', 'xkcd:chocolate', 'xkcd:charcoal']\n",
    "    if len(np.unique(mles.values())) > len(cmap_list) - 1:\n",
    "        print(\"ERROR: too many cats, cmap does not have enough colors\")\n",
    "        \n",
    "    \n",
    "    for row in range(num_rows):\n",
    "        for col in range(num_cols):\n",
    "            if (row, col) in wcs.matrix_to_chipnum:\n",
    "                # +1 to make no_mle_val always be white\n",
    "                Z[row, col] = mles[wcs.matrix_to_chipnum[(row, col)]].term\n",
    "            else:\n",
    "                Z[row, col] = NO_MLE.term\n",
    "                # print(\"using no_mle_val for col {} and row {}\".format(col, row))\n",
    "                                   \n",
    "    mle_terms = set([(data.term, data.abbrev) for data in mles.values()])\n",
    "    mle_terms.add((NO_MLE.term, NO_MLE.abbrev))\n",
    "    abbrev_labels = [pair[1] for pair in sorted(mle_terms)]\n",
    "    print(abbrev_labels)\n",
    "    \n",
    "    print(cmap_list[:len(abbrev_labels)])\n",
    "    cmap = ListedColormap(cmap_list[:len(abbrev_labels)])\n",
    "    mesh = ax.pcolormesh(X, Y, Z, shading='auto', edgecolors='black', cmap=cmap)\n",
    "    cbar = fig.colorbar(mesh, ax=ax)\n",
    "    cbar.ax.set_yticklabels\n",
    "    ax.set_title('MLE Categories for Language {}'.format(lang))\n",
    "    # ax.legend()\n",
    "\n",
    "    fig.set_size_inches((32, 8))\n",
    "    plt.show()\n",
    "    # plt.savefig('lang{}_simpleMLEgrid.png'.format(language))"
   ]
  },
  {
   "cell_type": "code",
   "execution_count": 54,
   "id": "bf1cd538-aadb-4923-a749-56531516d2f8",
   "metadata": {},
   "outputs": [
    {
     "name": "stdout",
     "output_type": "stream",
     "text": [
      "Chip 26 was contested\n",
      "Chip 63 was contested\n",
      "Chip 105 was contested\n",
      "Chip 138 was contested\n",
      "Chip 215 was contested\n",
      "['Co', 'No', 'J', 'R', 'D', 'M', 'L', 'E']\n",
      "['xkcd:pale yellow', 'white', 'xkcd:light pink', 'xkcd:peach', 'xkcd:beige', 'xkcd:salmon', 'xkcd:lilac', 'xkcd:tan']\n"
     ]
    },
    {
     "data": {
      "image/png": "[encoded data removed]",
      "text/plain": [
       "<Figure size 2304x576 with 2 Axes>"
      ]
     },
     "metadata": {
      "needs_background": "light"
     },
     "output_type": "display_data"
    }
   ],
   "source": [
    "lang = 16\n",
    "mles = build_simple_mle(word_counts[lang], term_maps[lang])\n",
    "bcts = get_BCTs(mles)\n",
    "simple_mle_grid(mles, lang)"
   ]
  }
 ],
 "metadata": {
  "kernelspec": {
   "display_name": "Python 3 (ipykernel)",
   "language": "python",
   "name": "python3"
  },
  "language_info": {
   "codemirror_mode": {
    "name": "ipython",
    "version": 3
   },
   "file_extension": ".py",
   "mimetype": "text/x-python",
   "name": "python",
   "nbconvert_exporter": "python",
   "pygments_lexer": "ipython3",
   "version": "3.9.7"
  }
 },
 "nbformat": 4,
 "nbformat_minor": 5
}
