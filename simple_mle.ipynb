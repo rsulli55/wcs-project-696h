{
 "cells": [
  {
   "cell_type": "code",
   "execution_count": 1,
   "metadata": {},
   "outputs": [
    {
     "name": "stdout",
     "output_type": "stream",
     "text": [
      "building word count and term map for lang  16\n",
      "building word count and term map for lang  17\n",
      "building word count and term map for lang  32\n",
      "building word count and term map for lang  36\n",
      "building word count and term map for lang  20\n",
      "building word count and term map for lang  51\n",
      "building word count and term map for lang  74\n",
      "building word count and term map for lang  87\n"
     ]
    }
   ],
   "source": [
    "from collections import namedtuple\n",
    "from collections import defaultdict\n",
    "\n",
    "import numpy as np\n",
    "import pandas as pd\n",
    "import matplotlib.pyplot as plt\n",
    "from matplotlib.colors import ListedColormap\n",
    "import matplotlib.ticker as ticker\n",
    "import matplotlib.cm\n",
    "\n",
    "import wcs\n",
    "from wcs import TermData\n",
    "from wcs import chipnum_to_wcsgrid\n",
    "\n",
    "CONTESTED_MLE = TermData(term=-2, abbrev='Co', translation='Contested')\n",
    "NO_MLE = TermData(term=-1, abbrev=\"No\", translation=\"None\")\n",
    "\n",
    "word_counts = {}\n",
    "term_maps = {}\n",
    "# langs = [16]\n",
    "# langs = wcs.ALL_LANGS\n",
    "langs = [16, 17, 32, 36, 20, 51, 74, 87]\n",
    "for lang in langs:\n",
    "    print(\"building word count and term map for lang \", lang)\n",
    "    word_counts[lang] = wcs.build_word_count(lang)\n",
    "    term_maps[lang] = wcs.build_term_map(lang)"
   ]
  },
  {
   "cell_type": "code",
   "execution_count": 2,
   "metadata": {},
   "outputs": [],
   "source": [
    "def build_simple_mle(word_count, term_map):\n",
    "    \"\"\"Returns \n",
    "    1. a map of chipnum -> TermData where each\n",
    "       chipnum is mapped to the majority term for that chip,\n",
    "       if there is no majority, it is mapped to CONTESTED_MLE\n",
    "    2. a list of all the MLE terms found i.e. the BCTs\n",
    "    3. the number of BCTs\"\"\"\n",
    "    mles = {}\n",
    "    bcts = set()\n",
    "    \n",
    "    for chip in wcs.ALL_CHIPS:\n",
    "        terms = np.argwhere(word_count[:, chip-1] == np.max(word_count[:, chip-1]))\n",
    "        if len(terms) > 1:\n",
    "            print(\"Chip {} was contested\".format(chip))\n",
    "            mles[chip] = CONTESTED_MLE\n",
    "        else:\n",
    "            term = terms[0,0]\n",
    "            mles[chip] = term_map[term+1]\n",
    "            bcts.add(term_map[term+1])\n",
    "            \n",
    "        # print(\"Row data for chip {}\".format(chip))\n",
    "        # print(word_count[:, chip-1])\n",
    "        # print(\"for chip {} got mle = {}\".format(chip, mle[chip]))\n",
    "    \n",
    "    return mles, list(bcts), len(bcts)\n",
    "\n",
    "def count_simple_mles(word_count):\n",
    "    \"\"\"Returns the number of simple MLEs (BCTs) for the language defined\n",
    "    by word_count\"\"\"\n",
    "    bcts = set()\n",
    "    for chip in wcs.ALL_CHIPS:\n",
    "        terms = np.argwhere(word_count[:, chip-1] == np.max(word_count[:, chip-1]))\n",
    "        if len(terms) > 1:\n",
    "            continue\n",
    "        bcts.add(terms[0,0])\n",
    "    \n",
    "    return len(bcts)\n",
    "\n",
    "def get_BCTs(mles):\n",
    "    \"\"\"From the mles return the TermData for each MLE term\"\"\"\n",
    "    bcts = set(mles.values())\n",
    "    bcts.remove(CONTESTED_MLE)\n",
    "    return list(bcts)\n",
    "\n",
    "def all_langs_num_BCTs(word_counts):\n",
    "    bct_counts = np.zeros((wcs.NUM_LANGS, 1), dtype=int) \n",
    "    for lang in wcs.ALL_LANGS:\n",
    "        word_count = None\n",
    "        if word_counts == None:\n",
    "            word_count = wcs.build_word_count(lang)\n",
    "        else:\n",
    "            word_count = word_counts[lang]\n",
    "        bct_counts[lang-1] = count_simple_mles(word_count)\n",
    "    \n",
    "    fig, ax = plt.subplots()\n",
    "    ax.hist(bct_counts, color='xkcd:dark teal', edgecolor='black')\n",
    "    ax.set_title('BCT counts over all 110 languages')\n",
    "    fig.set_size_inches((15, 10))\n",
    "    plt.savefig('output/simple_mle_BCT_histogram.png')\n",
    "    plt.show()\n",
    "    \n",
    "    csv = pd.DataFrame.from_dict(data = {'Language': wcs.ALL_LANGS, 'BCT Count': bct_counts[:,0]})\n",
    "    csv.to_csv('output/simple_mle_BCT_counts.csv')\n",
    "    \n",
    "        \n",
    "def simple_mle_grid(mles, lang):\n",
    "    # plot the wcs grid with the mle estimate\n",
    "    fig, ax = plt.subplots()\n",
    "    num_cols = 41\n",
    "    num_rows = len('ABCDEFGHIJ')\n",
    "    X, Y = np.meshgrid(np.arange(num_cols), np.arange(num_rows))\n",
    "    Z = np.zeros((num_rows, num_cols), dtype=int)\n",
    "   \n",
    "    cmap_list = ['xkcd:pale yellow', 'white', 'xkcd:light pink', 'xkcd:peach', 'xkcd:beige',\n",
    "                 'xkcd:salmon', 'xkcd:lilac', 'xkcd:orangered',\n",
    "                 'xkcd:tan', 'xkcd:puke green', 'xkcd:rose',\n",
    "                 'xkcd:seafoam green', 'xkcd:grass green', 'xkcd:baby blue',\n",
    "                 'xkcd:olive', 'xkcd:forest green', 'xkcd:deep blue',\n",
    "                 'xkcd:purple blue', 'xkcd:chocolate', 'xkcd:charcoal', \n",
    "                 'xkcd:fuschia', 'xkcd:greyish purple']\n",
    "    if len(np.unique(mles.values())) > len(cmap_list) - 1:\n",
    "        print(\"ERROR: too many cats, cmap does not have enough colors\")\n",
    "    \n",
    "    # get a set of all mle_terms we will care about\n",
    "    mle_terms = set([(data.term, data.abbrev) for data in mles.values()])\n",
    "    mle_terms.add((NO_MLE.term, NO_MLE.abbrev))\n",
    "    # sort them and store abbreviation labels\n",
    "    mle_terms = sorted(mle_terms)\n",
    "    abbrev_labels = [pair[1] for pair in mle_terms]\n",
    "\n",
    "    # collapse the terms numbers to the range [0, num_mle_terms]\n",
    "    sorted_terms = [pair[0] for pair in mle_terms]\n",
    "    collapsed_terms = {}\n",
    "    for collapsed, term in enumerate(sorted_terms):\n",
    "        collapsed_terms[term] = collapsed\n",
    "    collapsed_counts = defaultdict(int)\n",
    "    \n",
    "    for row in range(num_rows):\n",
    "        for col in range(num_cols):\n",
    "            if (row, col) in wcs.matrix_to_chipnum:\n",
    "                term = mles[wcs.matrix_to_chipnum[(row, col)]].term\n",
    "                Z[row, col] = collapsed_terms[term]\n",
    "                collapsed_counts[collapsed_terms[term]] += 1\n",
    "            else:\n",
    "                Z[row, col] = collapsed_terms[NO_MLE.term]\n",
    "                collapsed_counts[collapsed_terms[NO_MLE.term]] += 1\n",
    "                # print(\"using no_mle_val for col {} and row {}\".format(col, row))\n",
    "\n",
    "    \n",
    "    cmap = ListedColormap(cmap_list[:len(abbrev_labels)])\n",
    "    mesh = ax.pcolormesh(X, Y, Z, shading='auto', edgecolors='black', cmap=cmap)\n",
    "    # pcolormesh needs to have data flipped\n",
    "    ax.invert_yaxis()\n",
    "    \n",
    "    # colorbar and ticks alignment\n",
    "    cbar = fig.colorbar(matplotlib.cm.ScalarMappable(cmap=cmap), ax=ax)\n",
    "    tick_spacing = 1.0 / len(abbrev_labels)\n",
    "    ticks = ticker.FixedLocator(np.arange(tick_spacing/2.0, 1.0, tick_spacing))\n",
    "    cbar.set_ticks(ticks)\n",
    "    tick_texts = cbar.ax.set_yticklabels(abbrev_labels)\n",
    "    # tick_texts[0].set_verticalalignment('top')\n",
    "    # tick_texts[-1].set_verticalalignment('bottom')\n",
    "    cbar.ax.tick_params(length=0) # remove the tick marks\n",
    "\n",
    "    # setup grid labels and title\n",
    "    ax.set_title('MLE Categories for Language {}'.format(lang))\n",
    "    ax.set_xticks(np.arange(num_cols))\n",
    "    ax.set_yticks(np.arange(num_rows))\n",
    "    ax.set_xticklabels([str(i) for i in range(41)])\n",
    "    ax.set_yticklabels([c for c in 'ABCDEFGHIJ'])\n",
    "    ax.tick_params(top=True, bottom=False, labeltop=True, labelbottom=False)\n",
    "\n",
    "    fig.set_size_inches((36, 8))\n",
    "    # plt.show()\n",
    "#     plt.savefig('output/lang{}_simple_mle_grid.png'.format(lang))\n",
    "    \n",
    "# heatmap plotting function following the guide in the matplotlib documentation\n",
    "def plot_heatmap(data, ax):\n",
    "    im = ax.pcolormesh(data, edgecolors='black', cmap = 'hot_r')\n",
    "    # pcolormesh needs to have data flipped\n",
    "    ax.invert_yaxis()\n",
    "\n",
    "    ax.set_xticks(np.arange(0.5, data.shape[1], 1))\n",
    "    ax.set_yticks(np.arange(0.5, data.shape[0], 1))\n",
    "\n",
    "    ax.set_xticklabels([str(i) for i in range(41)])\n",
    "    ax.set_yticklabels([c for c in 'ABCDEFGHIJ'])\n",
    "\n",
    "    ax.tick_params(top=True, bottom=False, labeltop=True, labelbottom=False)\n",
    "\n",
    "    return im\n",
    "\n",
    "# plot heatmaps for the bcts\n",
    "def bct_heatmaps(language, word_count, bcts):\n",
    "    # normalization for colormaps\n",
    "    word_count_max = np.max(word_count)\n",
    "    num_categories = len(bcts)\n",
    "    num_rows = num_categories\n",
    "    num_cols = 1\n",
    "    # if num_categories > 4:\n",
    "    #     num_cols = 2\n",
    "    #     num_rows = 4\n",
    "    # if num_categories > 8:\n",
    "    #     print('ERROR: too many categories')\n",
    "    \n",
    "    fig, ax = plt.subplots(num_categories, 1)\n",
    "    for bid, bct in enumerate(bcts):\n",
    "        data = np.zeros((10, 41))\n",
    "        data[0, 40] = word_count_max\n",
    "        for i in range(data.shape[0]):\n",
    "            for j in range(data.shape[1]):\n",
    "                if (i, j) in wcs.matrix_to_chipnum:\n",
    "                    data[i, j] = word_count[bct.term-1, wcs.matrix_to_chipnum[(i, j)] - 1]\n",
    "        \n",
    "        im = plot_heatmap(data, ax[bid])\n",
    "        ax[bid].set_title('Term: {}, abbrev {}, translation {}'.format(bct.term, bct.abbrev, bct.translation))\n",
    "    \n",
    "    fig.set_size_inches((32, 8*num_categories))\n",
    "#     plt.savefig('output/lang{}_simple_mle_bct_heatmaps.png'.format(language))\n"
   ]
  },
  {
   "cell_type": "code",
   "execution_count": 16,
   "metadata": {},
   "outputs": [
    {
     "name": "stdout",
     "output_type": "stream",
     "text": [
      "Making grid and heatmaps for lang  17\n",
      "Chip 3 was contested\n",
      "Chip 59 was contested\n",
      "Chip 60 was contested\n",
      "Chip 154 was contested\n",
      "Chip 290 was contested\n",
      "{1: TermData(term=9, abbrev='CL', translation='celeste'), 2: TermData(term=9, abbrev='CL', translation='celeste'), 3: TermData(term=-2, abbrev='Co', translation='Contested'), 4: TermData(term=10, abbrev='MO', translation='morado'), 5: TermData(term=6, abbrev='RX', translation='rex'), 6: TermData(term=4, abbrev='KN', translation=\"k'en\"), 7: TermData(term=6, abbrev='RX', translation='rex'), 8: TermData(term=21, abbrev='CO', translation='corinto'), 9: TermData(term=11, abbrev='CK', translation=\"c'ak'oj\"), 10: TermData(term=8, abbrev='AZ', translation='azul'), 11: TermData(term=6, abbrev='RX', translation='rex'), 12: TermData(term=4, abbrev='KN', translation=\"k'en\"), 13: TermData(term=6, abbrev='RX', translation='rex'), 14: TermData(term=8, abbrev='AZ', translation='azul'), 15: TermData(term=16, abbrev='LL', translation='lila'), 16: TermData(term=1, abbrev='SK', translation='sek'), 17: TermData(term=14, abbrev='NA', translation='anaranjada/naranjada'), 18: TermData(term=2, abbrev='KK', translation='kiek/kik'), 19: TermData(term=9, abbrev='CL', translation='celeste'), 20: TermData(term=6, abbrev='RX', translation='rex'), 21: TermData(term=13, abbrev='RO', translation='rosado'), 22: TermData(term=4, abbrev='KN', translation=\"k'en\"), 23: TermData(term=10, abbrev='MO', translation='morado'), 24: TermData(term=2, abbrev='KK', translation='kiek/kik'), 25: TermData(term=6, abbrev='RX', translation='rex'), 26: TermData(term=8, abbrev='AZ', translation='azul'), 27: TermData(term=1, abbrev='SK', translation='sek'), 28: TermData(term=13, abbrev='RO', translation='rosado'), 29: TermData(term=6, abbrev='RX', translation='rex'), 30: TermData(term=11, abbrev='CK', translation=\"c'ak'oj\"), 31: TermData(term=9, abbrev='CL', translation='celeste'), 32: TermData(term=16, abbrev='LL', translation='lila'), 33: TermData(term=6, abbrev='RX', translation='rex'), 34: TermData(term=8, abbrev='AZ', translation='azul'), 35: TermData(term=13, abbrev='RO', translation='rosado'), 36: TermData(term=6, abbrev='RX', translation='rex'), 37: TermData(term=8, abbrev='AZ', translation='azul'), 38: TermData(term=28, abbrev='PI', translation='pitaya'), 39: TermData(term=6, abbrev='RX', translation='rex'), 40: TermData(term=9, abbrev='CL', translation='celeste'), 41: TermData(term=3, abbrev='QU', translation='quich'), 42: TermData(term=4, abbrev='KN', translation=\"k'en\"), 43: TermData(term=8, abbrev='AZ', translation='azul'), 44: TermData(term=1, abbrev='SK', translation='sek'), 45: TermData(term=6, abbrev='RX', translation='rex'), 46: TermData(term=27, abbrev='GR', translation='gris'), 47: TermData(term=6, abbrev='RX', translation='rex'), 48: TermData(term=4, abbrev='KN', translation=\"k'en\"), 49: TermData(term=9, abbrev='CL', translation='celeste'), 50: TermData(term=10, abbrev='MO', translation='morado'), 51: TermData(term=11, abbrev='CK', translation=\"c'ak'oj\"), 52: TermData(term=1, abbrev='SK', translation='sek'), 53: TermData(term=10, abbrev='MO', translation='morado'), 54: TermData(term=6, abbrev='RX', translation='rex'), 55: TermData(term=9, abbrev='CL', translation='celeste'), 56: TermData(term=13, abbrev='RO', translation='rosado'), 57: TermData(term=8, abbrev='AZ', translation='azul'), 58: TermData(term=4, abbrev='KN', translation=\"k'en\"), 59: TermData(term=-2, abbrev='Co', translation='Contested'), 60: TermData(term=-2, abbrev='Co', translation='Contested'), 61: TermData(term=3, abbrev='QU', translation='quich'), 62: TermData(term=16, abbrev='LL', translation='lila'), 63: TermData(term=13, abbrev='RO', translation='rosado'), 64: TermData(term=8, abbrev='AZ', translation='azul'), 65: TermData(term=13, abbrev='RO', translation='rosado'), 66: TermData(term=1, abbrev='SK', translation='sek'), 67: TermData(term=6, abbrev='RX', translation='rex'), 68: TermData(term=13, abbrev='RO', translation='rosado'), 69: TermData(term=6, abbrev='RX', translation='rex'), 70: TermData(term=1, abbrev='SK', translation='sek'), 71: TermData(term=21, abbrev='CO', translation='corinto'), 72: TermData(term=6, abbrev='RX', translation='rex'), 73: TermData(term=10, abbrev='MO', translation='morado'), 74: TermData(term=9, abbrev='CL', translation='celeste'), 75: TermData(term=6, abbrev='RX', translation='rex'), 76: TermData(term=15, abbrev='PU', translation='puluic'), 77: TermData(term=9, abbrev='CL', translation='celeste'), 78: TermData(term=16, abbrev='LL', translation='lila'), 79: TermData(term=2, abbrev='KK', translation='kiek/kik'), 80: TermData(term=8, abbrev='AZ', translation='azul'), 81: TermData(term=6, abbrev='RX', translation='rex'), 82: TermData(term=9, abbrev='CL', translation='celeste'), 83: TermData(term=4, abbrev='KN', translation=\"k'en\"), 84: TermData(term=13, abbrev='RO', translation='rosado'), 85: TermData(term=6, abbrev='RX', translation='rex'), 86: TermData(term=13, abbrev='RO', translation='rosado'), 87: TermData(term=2, abbrev='KK', translation='kiek/kik'), 88: TermData(term=10, abbrev='MO', translation='morado'), 89: TermData(term=2, abbrev='KK', translation='kiek/kik'), 90: TermData(term=6, abbrev='RX', translation='rex'), 91: TermData(term=6, abbrev='RX', translation='rex'), 92: TermData(term=1, abbrev='SK', translation='sek'), 93: TermData(term=8, abbrev='AZ', translation='azul'), 94: TermData(term=2, abbrev='KK', translation='kiek/kik'), 95: TermData(term=9, abbrev='CL', translation='celeste'), 96: TermData(term=4, abbrev='KN', translation=\"k'en\"), 97: TermData(term=10, abbrev='MO', translation='morado'), 98: TermData(term=3, abbrev='QU', translation='quich'), 99: TermData(term=16, abbrev='LL', translation='lila'), 100: TermData(term=9, abbrev='CL', translation='celeste'), 101: TermData(term=10, abbrev='MO', translation='morado'), 102: TermData(term=9, abbrev='CL', translation='celeste'), 103: TermData(term=6, abbrev='RX', translation='rex'), 104: TermData(term=9, abbrev='CL', translation='celeste'), 105: TermData(term=10, abbrev='MO', translation='morado'), 106: TermData(term=4, abbrev='KN', translation=\"k'en\"), 107: TermData(term=1, abbrev='SK', translation='sek'), 108: TermData(term=9, abbrev='CL', translation='celeste'), 109: TermData(term=8, abbrev='AZ', translation='azul'), 110: TermData(term=4, abbrev='KN', translation=\"k'en\"), 111: TermData(term=6, abbrev='RX', translation='rex'), 112: TermData(term=3, abbrev='QU', translation='quich'), 113: TermData(term=2, abbrev='KK', translation='kiek/kik'), 114: TermData(term=6, abbrev='RX', translation='rex'), 115: TermData(term=3, abbrev='QU', translation='quich'), 116: TermData(term=9, abbrev='CL', translation='celeste'), 117: TermData(term=11, abbrev='CK', translation=\"c'ak'oj\"), 118: TermData(term=13, abbrev='RO', translation='rosado'), 119: TermData(term=6, abbrev='RX', translation='rex'), 120: TermData(term=1, abbrev='SK', translation='sek'), 121: TermData(term=15, abbrev='PU', translation='puluic'), 122: TermData(term=6, abbrev='RX', translation='rex'), 123: TermData(term=8, abbrev='AZ', translation='azul'), 124: TermData(term=6, abbrev='RX', translation='rex'), 125: TermData(term=15, abbrev='PU', translation='puluic'), 126: TermData(term=13, abbrev='RO', translation='rosado'), 127: TermData(term=6, abbrev='RX', translation='rex'), 128: TermData(term=4, abbrev='KN', translation=\"k'en\"), 129: TermData(term=1, abbrev='SK', translation='sek'), 130: TermData(term=6, abbrev='RX', translation='rex'), 131: TermData(term=10, abbrev='MO', translation='morado'), 132: TermData(term=3, abbrev='QU', translation='quich'), 133: TermData(term=6, abbrev='RX', translation='rex'), 134: TermData(term=11, abbrev='CK', translation=\"c'ak'oj\"), 135: TermData(term=10, abbrev='MO', translation='morado'), 136: TermData(term=9, abbrev='CL', translation='celeste'), 137: TermData(term=6, abbrev='RX', translation='rex'), 138: TermData(term=9, abbrev='CL', translation='celeste'), 139: TermData(term=1, abbrev='SK', translation='sek'), 140: TermData(term=8, abbrev='AZ', translation='azul'), 141: TermData(term=1, abbrev='SK', translation='sek'), 142: TermData(term=1, abbrev='SK', translation='sek'), 143: TermData(term=6, abbrev='RX', translation='rex'), 144: TermData(term=10, abbrev='MO', translation='morado'), 145: TermData(term=6, abbrev='RX', translation='rex'), 146: TermData(term=4, abbrev='KN', translation=\"k'en\"), 147: TermData(term=6, abbrev='RX', translation='rex'), 148: TermData(term=3, abbrev='QU', translation='quich'), 149: TermData(term=6, abbrev='RX', translation='rex'), 150: TermData(term=10, abbrev='MO', translation='morado'), 151: TermData(term=13, abbrev='RO', translation='rosado'), 152: TermData(term=16, abbrev='LL', translation='lila'), 153: TermData(term=9, abbrev='CL', translation='celeste'), 154: TermData(term=-2, abbrev='Co', translation='Contested'), 155: TermData(term=11, abbrev='CK', translation=\"c'ak'oj\"), 156: TermData(term=6, abbrev='RX', translation='rex'), 157: TermData(term=11, abbrev='CK', translation=\"c'ak'oj\"), 158: TermData(term=1, abbrev='SK', translation='sek'), 159: TermData(term=4, abbrev='KN', translation=\"k'en\"), 160: TermData(term=13, abbrev='RO', translation='rosado'), 161: TermData(term=6, abbrev='RX', translation='rex'), 162: TermData(term=3, abbrev='QU', translation='quich'), 163: TermData(term=6, abbrev='RX', translation='rex'), 164: TermData(term=8, abbrev='AZ', translation='azul'), 165: TermData(term=6, abbrev='RX', translation='rex'), 166: TermData(term=8, abbrev='AZ', translation='azul'), 167: TermData(term=16, abbrev='LL', translation='lila'), 168: TermData(term=6, abbrev='RX', translation='rex'), 169: TermData(term=9, abbrev='CL', translation='celeste'), 170: TermData(term=8, abbrev='AZ', translation='azul'), 171: TermData(term=6, abbrev='RX', translation='rex'), 172: TermData(term=1, abbrev='SK', translation='sek'), 173: TermData(term=13, abbrev='RO', translation='rosado'), 174: TermData(term=4, abbrev='KN', translation=\"k'en\"), 175: TermData(term=9, abbrev='CL', translation='celeste'), 176: TermData(term=13, abbrev='RO', translation='rosado'), 177: TermData(term=4, abbrev='KN', translation=\"k'en\"), 178: TermData(term=8, abbrev='AZ', translation='azul'), 179: TermData(term=21, abbrev='CO', translation='corinto'), 180: TermData(term=6, abbrev='RX', translation='rex'), 181: TermData(term=4, abbrev='KN', translation=\"k'en\"), 182: TermData(term=10, abbrev='MO', translation='morado'), 183: TermData(term=11, abbrev='CK', translation=\"c'ak'oj\"), 184: TermData(term=10, abbrev='MO', translation='morado'), 185: TermData(term=11, abbrev='CK', translation=\"c'ak'oj\"), 186: TermData(term=9, abbrev='CL', translation='celeste'), 187: TermData(term=4, abbrev='KN', translation=\"k'en\"), 188: TermData(term=9, abbrev='CL', translation='celeste'), 189: TermData(term=9, abbrev='CL', translation='celeste'), 190: TermData(term=13, abbrev='RO', translation='rosado'), 191: TermData(term=6, abbrev='RX', translation='rex'), 192: TermData(term=10, abbrev='MO', translation='morado'), 193: TermData(term=4, abbrev='KN', translation=\"k'en\"), 194: TermData(term=21, abbrev='CO', translation='corinto'), 195: TermData(term=6, abbrev='RX', translation='rex'), 196: TermData(term=9, abbrev='CL', translation='celeste'), 197: TermData(term=16, abbrev='LL', translation='lila'), 198: TermData(term=2, abbrev='KK', translation='kiek/kik'), 199: TermData(term=1, abbrev='SK', translation='sek'), 200: TermData(term=9, abbrev='CL', translation='celeste'), 201: TermData(term=13, abbrev='RO', translation='rosado'), 202: TermData(term=6, abbrev='RX', translation='rex'), 203: TermData(term=13, abbrev='RO', translation='rosado'), 204: TermData(term=11, abbrev='CK', translation=\"c'ak'oj\"), 205: TermData(term=10, abbrev='MO', translation='morado'), 206: TermData(term=1, abbrev='SK', translation='sek'), 207: TermData(term=13, abbrev='RO', translation='rosado'), 208: TermData(term=11, abbrev='CK', translation=\"c'ak'oj\"), 209: TermData(term=6, abbrev='RX', translation='rex'), 210: TermData(term=11, abbrev='CK', translation=\"c'ak'oj\"), 211: TermData(term=9, abbrev='CL', translation='celeste'), 212: TermData(term=4, abbrev='KN', translation=\"k'en\"), 213: TermData(term=16, abbrev='LL', translation='lila'), 214: TermData(term=4, abbrev='KN', translation=\"k'en\"), 215: TermData(term=16, abbrev='LL', translation='lila'), 216: TermData(term=6, abbrev='RX', translation='rex'), 217: TermData(term=13, abbrev='RO', translation='rosado'), 218: TermData(term=6, abbrev='RX', translation='rex'), 219: TermData(term=9, abbrev='CL', translation='celeste'), 220: TermData(term=8, abbrev='AZ', translation='azul'), 221: TermData(term=9, abbrev='CL', translation='celeste'), 222: TermData(term=10, abbrev='MO', translation='morado'), 223: TermData(term=6, abbrev='RX', translation='rex'), 224: TermData(term=1, abbrev='SK', translation='sek'), 225: TermData(term=6, abbrev='RX', translation='rex'), 226: TermData(term=8, abbrev='AZ', translation='azul'), 227: TermData(term=2, abbrev='KK', translation='kiek/kik'), 228: TermData(term=8, abbrev='AZ', translation='azul'), 229: TermData(term=9, abbrev='CL', translation='celeste'), 230: TermData(term=1, abbrev='SK', translation='sek'), 231: TermData(term=10, abbrev='MO', translation='morado'), 232: TermData(term=11, abbrev='CK', translation=\"c'ak'oj\"), 233: TermData(term=10, abbrev='MO', translation='morado'), 234: TermData(term=6, abbrev='RX', translation='rex'), 235: TermData(term=8, abbrev='AZ', translation='azul'), 236: TermData(term=6, abbrev='RX', translation='rex'), 237: TermData(term=13, abbrev='RO', translation='rosado'), 238: TermData(term=6, abbrev='RX', translation='rex'), 239: TermData(term=13, abbrev='RO', translation='rosado'), 240: TermData(term=11, abbrev='CK', translation=\"c'ak'oj\"), 241: TermData(term=1, abbrev='SK', translation='sek'), 242: TermData(term=4, abbrev='KN', translation=\"k'en\"), 243: TermData(term=10, abbrev='MO', translation='morado'), 244: TermData(term=9, abbrev='CL', translation='celeste'), 245: TermData(term=3, abbrev='QU', translation='quich'), 246: TermData(term=6, abbrev='RX', translation='rex'), 247: TermData(term=10, abbrev='MO', translation='morado'), 248: TermData(term=6, abbrev='RX', translation='rex'), 249: TermData(term=6, abbrev='RX', translation='rex'), 250: TermData(term=10, abbrev='MO', translation='morado'), 251: TermData(term=6, abbrev='RX', translation='rex'), 252: TermData(term=1, abbrev='SK', translation='sek'), 253: TermData(term=6, abbrev='RX', translation='rex'), 254: TermData(term=9, abbrev='CL', translation='celeste'), 255: TermData(term=2, abbrev='KK', translation='kiek/kik'), 256: TermData(term=13, abbrev='RO', translation='rosado'), 257: TermData(term=8, abbrev='AZ', translation='azul'), 258: TermData(term=4, abbrev='KN', translation=\"k'en\"), 259: TermData(term=3, abbrev='QU', translation='quich'), 260: TermData(term=4, abbrev='KN', translation=\"k'en\"), 261: TermData(term=15, abbrev='PU', translation='puluic'), 262: TermData(term=1, abbrev='SK', translation='sek'), 263: TermData(term=27, abbrev='GR', translation='gris'), 264: TermData(term=9, abbrev='CL', translation='celeste'), 265: TermData(term=6, abbrev='RX', translation='rex'), 266: TermData(term=11, abbrev='CK', translation=\"c'ak'oj\"), 267: TermData(term=10, abbrev='MO', translation='morado'), 268: TermData(term=6, abbrev='RX', translation='rex'), 269: TermData(term=10, abbrev='MO', translation='morado'), 270: TermData(term=4, abbrev='KN', translation=\"k'en\"), 271: TermData(term=6, abbrev='RX', translation='rex'), 272: TermData(term=1, abbrev='SK', translation='sek'), 273: TermData(term=16, abbrev='LL', translation='lila'), 274: TermData(term=1, abbrev='SK', translation='sek'), 275: TermData(term=4, abbrev='KN', translation=\"k'en\"), 276: TermData(term=28, abbrev='PI', translation='pitaya'), 277: TermData(term=8, abbrev='AZ', translation='azul'), 278: TermData(term=13, abbrev='RO', translation='rosado'), 279: TermData(term=8, abbrev='AZ', translation='azul'), 280: TermData(term=6, abbrev='RX', translation='rex'), 281: TermData(term=6, abbrev='RX', translation='rex'), 282: TermData(term=6, abbrev='RX', translation='rex'), 283: TermData(term=11, abbrev='CK', translation=\"c'ak'oj\"), 284: TermData(term=1, abbrev='SK', translation='sek'), 285: TermData(term=13, abbrev='RO', translation='rosado'), 286: TermData(term=1, abbrev='SK', translation='sek'), 287: TermData(term=11, abbrev='CK', translation=\"c'ak'oj\"), 288: TermData(term=3, abbrev='QU', translation='quich'), 289: TermData(term=9, abbrev='CL', translation='celeste'), 290: TermData(term=-2, abbrev='Co', translation='Contested'), 291: TermData(term=8, abbrev='AZ', translation='azul'), 292: TermData(term=13, abbrev='RO', translation='rosado'), 293: TermData(term=9, abbrev='CL', translation='celeste'), 294: TermData(term=1, abbrev='SK', translation='sek'), 295: TermData(term=11, abbrev='CK', translation=\"c'ak'oj\"), 296: TermData(term=10, abbrev='MO', translation='morado'), 297: TermData(term=4, abbrev='KN', translation=\"k'en\"), 298: TermData(term=3, abbrev='QU', translation='quich'), 299: TermData(term=6, abbrev='RX', translation='rex'), 300: TermData(term=27, abbrev='GR', translation='gris'), 301: TermData(term=6, abbrev='RX', translation='rex'), 302: TermData(term=17, abbrev='CR', translation='creama'), 303: TermData(term=9, abbrev='CL', translation='celeste'), 304: TermData(term=6, abbrev='RX', translation='rex'), 305: TermData(term=10, abbrev='MO', translation='morado'), 306: TermData(term=6, abbrev='RX', translation='rex'), 307: TermData(term=9, abbrev='CL', translation='celeste'), 308: TermData(term=16, abbrev='LL', translation='lila'), 309: TermData(term=2, abbrev='KK', translation='kiek/kik'), 310: TermData(term=6, abbrev='RX', translation='rex'), 311: TermData(term=8, abbrev='AZ', translation='azul'), 312: TermData(term=2, abbrev='KK', translation='kiek/kik'), 313: TermData(term=8, abbrev='AZ', translation='azul'), 314: TermData(term=1, abbrev='SK', translation='sek'), 315: TermData(term=6, abbrev='RX', translation='rex'), 316: TermData(term=6, abbrev='RX', translation='rex'), 317: TermData(term=10, abbrev='MO', translation='morado'), 318: TermData(term=4, abbrev='KN', translation=\"k'en\"), 319: TermData(term=1, abbrev='SK', translation='sek'), 320: TermData(term=6, abbrev='RX', translation='rex'), 321: TermData(term=3, abbrev='QU', translation='quich'), 322: TermData(term=9, abbrev='CL', translation='celeste'), 323: TermData(term=6, abbrev='RX', translation='rex'), 324: TermData(term=1, abbrev='SK', translation='sek'), 325: TermData(term=10, abbrev='MO', translation='morado'), 326: TermData(term=4, abbrev='KN', translation=\"k'en\"), 327: TermData(term=9, abbrev='CL', translation='celeste'), 328: TermData(term=6, abbrev='RX', translation='rex'), 329: TermData(term=11, abbrev='CK', translation=\"c'ak'oj\"), 330: TermData(term=9, abbrev='CL', translation='celeste')}\n"
     ]
    }
   ],
   "source": [
    "langs = [16, 17, 32, 36, 20, 51, 74, 87]\n",
    "langs = [17]\n",
    "for lang in langs:\n",
    "    print('Making grid and heatmaps for lang ', lang)\n",
    "    mles, bcts, num_bcts = build_simple_mle(word_counts[lang], term_maps[lang])\n",
    "    print(mles)\n",
    "#     simple_mle_grid(mles, lang)\n",
    "#     bct_heatmaps(lang, word_counts[lang], bcts)\n",
    "    "
   ]
  },
  {
   "cell_type": "code",
   "execution_count": 4,
   "metadata": {},
   "outputs": [
    {
     "name": "stdout",
     "output_type": "stream",
     "text": [
      "0 TermData(term=13, abbrev='RO', translation='rosado')\n",
      "1 TermData(term=16, abbrev='LL', translation='lila')\n",
      "2 TermData(term=2, abbrev='KK', translation='kiek/kik')\n",
      "3 TermData(term=1, abbrev='SK', translation='sek')\n",
      "4 TermData(term=3, abbrev='QU', translation='quich')\n",
      "5 TermData(term=17, abbrev='CR', translation='creama')\n",
      "6 TermData(term=10, abbrev='MO', translation='morado')\n",
      "7 TermData(term=9, abbrev='CL', translation='celeste')\n",
      "8 TermData(term=28, abbrev='PI', translation='pitaya')\n",
      "9 TermData(term=21, abbrev='CO', translation='corinto')\n",
      "10 TermData(term=8, abbrev='AZ', translation='azul')\n",
      "11 TermData(term=6, abbrev='RX', translation='rex')\n",
      "12 TermData(term=27, abbrev='GR', translation='gris')\n",
      "13 TermData(term=4, abbrev='KN', translation=\"k'en\")\n",
      "14 TermData(term=15, abbrev='PU', translation='puluic')\n",
      "15 TermData(term=14, abbrev='NA', translation='anaranjada/naranjada')\n",
      "16 TermData(term=11, abbrev='CK', translation=\"c'ak'oj\")\n"
     ]
    }
   ],
   "source": [
    "for i,j in enumerate(bcts):\n",
    "    print(i,j)"
   ]
  },
  {
   "cell_type": "code",
   "execution_count": 5,
   "metadata": {
    "scrolled": true
   },
   "outputs": [],
   "source": [
    "colors = np.load('color.npy')\n",
    "colors = colors.astype(int)\n",
    "from matplotlib.colors import rgb_to_hsv\n",
    "colors = rgb_to_hsv(colors)\n",
    "# img = cv2.cvtColor(colors, cv2.COLOR_BGR2HSV)\n",
    "red = []\n",
    "green = []\n",
    "blue = []\n",
    "term = 9\n",
    "for i in range(word_counts[lang][bcts[term][0]-1,:].shape[0]):\n",
    "    for j in range(word_counts[lang][bcts[term][0]-1,i]):\n",
    "        red.append(colors[ord(chipnum_to_wcsgrid[i+1][0])-ord('A'),chipnum_to_wcsgrid[i+1][1],0])\n",
    "        green.append(colors[ord(chipnum_to_wcsgrid[i+1][0])-ord('A'),chipnum_to_wcsgrid[i+1][1],1])\n",
    "        blue.append(colors[ord(chipnum_to_wcsgrid[i+1][0])-ord('A'),chipnum_to_wcsgrid[i+1][1],2])"
   ]
  },
  {
   "cell_type": "code",
   "execution_count": 6,
   "metadata": {},
   "outputs": [
    {
     "data": {
      "image/png": "[encoded data removed]",
      "text/plain": [
       "<Figure size 432x288 with 1 Axes>"
      ]
     },
     "metadata": {
      "needs_background": "light"
     },
     "output_type": "display_data"
    }
   ],
   "source": [
    "_ = plt.hist(red, bins=np.arange(255), color = 'red')  # arguments are passed to np.histogram\n",
    "_ = plt.hist(green, bins=np.arange(255), color = 'green')  # arguments are passed to np.histogram\n",
    "_ = plt.hist(blue, bins=np.arange(255), color = 'blue')  # arguments are passed to np.histogram\n"
   ]
  },
  {
   "cell_type": "code",
   "execution_count": 7,
   "metadata": {},
   "outputs": [],
   "source": [
    "# hist_r, _ = np.histogram(red, bins=256, range = (0,255),density=False)\n",
    "# hist_r = hist_r / sum(hist_r)\n",
    "red = np.array(red)\n",
    "hist_r, _ = np.histogram(red, bins=256, range = (0,1),density=False)\n",
    "hist_r = hist_r / sum(hist_r)\n",
    "\n",
    "green = np.array(green)\n",
    "hist_g, _ = np.histogram(green, bins=256, range = (0,1),density=False)\n",
    "hist_g = hist_g / sum(hist_g)\n",
    "\n",
    "hist_b, _ = np.histogram(blue, bins=360, range = (0,360),density=False)\n",
    "hist_b = hist_b / sum(hist_b)\n",
    "\n",
    "number_col = 100\n",
    "sample_r = np.random.choice(256, number_col, p=hist_r)/255\n",
    "sample_g = np.random.choice(256, number_col, p=hist_g)/255\n",
    "sample_b = np.random.choice(360, number_col, p=hist_b)\n"
   ]
  },
  {
   "cell_type": "code",
   "execution_count": 8,
   "metadata": {},
   "outputs": [],
   "source": [
    "colors = np.zeros((number_col,1,3))\n",
    "colors[:,0,0] = sample_r\n",
    "colors[:,0,1] = sample_g\n",
    "colors[:,0,2] = sample_b"
   ]
  },
  {
   "cell_type": "code",
   "execution_count": 9,
   "metadata": {},
   "outputs": [
    {
     "data": {
      "text/plain": [
       "<matplotlib.image.AxesImage at 0x7f86e3751520>"
      ]
     },
     "execution_count": 9,
     "metadata": {},
     "output_type": "execute_result"
    },
    {
     "data": {
      "image/png": "[encoded data removed]",
      "text/plain": [
       "<Figure size 432x288 with 1 Axes>"
      ]
     },
     "metadata": {
      "needs_background": "light"
     },
     "output_type": "display_data"
    }
   ],
   "source": [
    "from matplotlib.colors import hsv_to_rgb\n",
    "colors = hsv_to_rgb(colors)\n",
    "colors = colors.astype(int)\n",
    "plt.imshow(colors.reshape(10,10,3))"
   ]
  },
  {
   "cell_type": "code",
   "execution_count": 99,
   "metadata": {},
   "outputs": [
    {
     "name": "stdout",
     "output_type": "stream",
     "text": [
      "[[ 1  1 17  1  1 -2  1  1  4  4  4  4  4  4  1  1  1  9  9  9  9  9  9  1\n",
      "   9  9  1  1  1  1  1  1  1  1  1  1  1  1  1  1]\n",
      " [13 13 13 13 13  4  4  4  4  4  4  4  4  6  6  6  6  6  9  6  9  9  9  9\n",
      "   9  9  9  9  9  9  1  1  1 -2 16 16 13 13 13 13]\n",
      " [13 13 13 13  4  4  4  4  4  4  4  4  6  6  6  6  6  6  6  6  6  9  9  9\n",
      "   9  9  9  9  9  9  9 16 16 16 16 16 13 13 13 13]\n",
      " [13 13 14 15 15 15  4  4  4  4  4  6  6  6  6  6  6  6  6  6  6  6  9  9\n",
      "   9  9  9  9  9  8 10 16 16 16 16 16 13 13 13 13]\n",
      " [ 3  3  3 -2 15 11 11 11 11  4  6  6  6  6  6  6  6  6  6  6  6  6  6  9\n",
      "   9  9  9  8  8  8  8 10 10 10 10 10 13 13 13  3]\n",
      " [ 3  3  3  3 11 11 11 11 11 11  6  6  6  6  6  6  6  6  6  6  6  6  6  6\n",
      "   8  8  8  8  8  8  8 10 10 10 10 10 10 28 28  3]\n",
      " [ 3  3  3  3 11 11 11 11 11  2  2  6  6  6  6  6  6  6  6  6  6  6  6  8\n",
      "   8  8  8  8  8  8  8 10 10 10 10 10 10 10 10 21]\n",
      " [21 21 21 11 11 11 11  2  2  2  2  2  2  2  6  6  6  6  6  6  6  6  6  8\n",
      "  -2  8  8  8  8  8  8 10 10 10 10 10 10 10 10 10]]\n"
     ]
    }
   ],
   "source": [
    "sample = np.zeros((10,41),dtype = int)\n",
    "for chip in wcs.ALL_CHIPS:\n",
    "#     print(ord(chipnum_to_wcsgrid[i+1][0])-ord('A'))\n",
    "#     print(mles[chip][0])\n",
    "    sample[ord(chipnum_to_wcsgrid[chip][0])-ord('A'), chipnum_to_wcsgrid[chip][1]] = mles[chip][0]\n",
    "print(sample[1:-1,1:])\n",
    "# for i,j in enumerate(bcts):\n",
    "#     print(i,j)\n"
   ]
  },
  {
   "cell_type": "code",
   "execution_count": 100,
   "metadata": {},
   "outputs": [
    {
     "data": {
      "text/plain": [
       "<matplotlib.image.AxesImage at 0x7f86e225efa0>"
      ]
     },
     "execution_count": 100,
     "metadata": {},
     "output_type": "execute_result"
    },
    {
     "data": {
      "image/png": "[encoded data removed]",
      "text/plain": [
       "<Figure size 432x288 with 1 Axes>"
      ]
     },
     "metadata": {
      "needs_background": "light"
     },
     "output_type": "display_data"
    }
   ],
   "source": [
    "majority = sample[1:-1,1:].copy()\n",
    "plt.imshow(sample[1:-1,1:])"
   ]
  },
  {
   "cell_type": "code",
   "execution_count": 104,
   "metadata": {},
   "outputs": [
    {
     "name": "stdout",
     "output_type": "stream",
     "text": [
      "[[ 1  1  0  0  0  0  0  0  0  0  0  0  0  0  0  0  0  0  0  0  0  0  0  0\n",
      "   0  0  0  0  0  0  0  0  0  0  0  0  0  0  0  0  0]\n",
      " [ 1  1  1  1  1  1  1  1  4  4  4  4  4  4  4  1  1  1  9  9  9  9  9  9\n",
      "   9  9  9  1  1  1  1  1  1  1  1  1  1  1  1  1  1]\n",
      " [ 1 13 13 13 13  4  4  4  4  4  4  4  4  4  6  6  6  6  6  6  6  9  9  9\n",
      "   9  9  9  9  9  9  9  1  1  1 16 16 16 13 13 13 13]\n",
      " [ 1 13 13 13 13  4  4  4  4  4  4  4  4  6  6  6  6  6  6  6  6  6  9  9\n",
      "   9  9  9  9  9  9  9  9 16 16 16 16 16 13 13 13 13]\n",
      " [ 1 13 13 13 13 15  4  4  4  4  4  4  6  6  6  6  6  6  6  6  6  6  6  9\n",
      "   9  9  9  9  9  9  9  9 16 16 16 16 16 13 13 13 13]\n",
      " [ 3  3  3  3  3 11 11 11 11 11  4  6  6  6  6  6  6  6  6  6  6  6  6  6\n",
      "   9  9  9  9  8  8  8  8 10 10 10 10 10 13 13 13  3]\n",
      " [ 3  3  3  3  3 11 11 11 11 11 11  6  6  6  6  6  6  6  6  6  6  6  6  6\n",
      "   8  8  8  8  8  8  8  8 10 10 10 10 10 10 10 10  3]\n",
      " [ 3  3  3  3  3 11 11 11 11 11 11  6  6  6  6  6  6  6  6  6  6  6  6  6\n",
      "   8  8  8  8  8  8  8  8 10 10 10 10 10 10 10 10 21]\n",
      " [ 2 21 21 21 11 11 11 11  2  2  2  2  2  2  2  6  6  6  6  6  6  6  6  6\n",
      "   8 -2  8  8  8  8  8  8 10 10 10 10 10 10 10 10 10]\n",
      " [ 2  0  0  0  0  0  0  0  0  0  0  0  0  0  0  0  0  0  0  0  0  0  0  0\n",
      "   0  0  0  0  0  0  0  0  0  0  0  0  0  0  0  0  0]]\n"
     ]
    }
   ],
   "source": [
    "from scipy.special import softmax\n",
    "terms = num_bcts + 1\n",
    "# sample = np.zeros((8,40),dtype = int)\n",
    "J = 5 \n",
    "for iterations in range(1):\n",
    "    for i in range(8):\n",
    "        for j in range(40):\n",
    "            theta = np.zeros((terms)) \n",
    "            if(i == 0):\n",
    "                #Corner\n",
    "                if(j == 0):\n",
    "                    for k in range(terms):\n",
    "                        theta[k] = int(sample[i,j+1] == k) + int(sample[i+1,j] == k) \n",
    "                #Corner     \n",
    "                elif(j == 39):\n",
    "                    for k in range(terms):\n",
    "                        theta[k] = int(sample[i,j-1] == k) + int(sample[i+1,j] == k) \n",
    "                #side\n",
    "                else:\n",
    "                    for k in range(terms):\n",
    "                        theta[k] = int(sample[i,j-1] == k) + int(sample[i,j+1] == k) + int(sample[i+1,j] == k) \n",
    "            elif(i == 7):\n",
    "                if(j == 0):\n",
    "                    #Corner\n",
    "                    for k in range(terms):\n",
    "                        theta[k] = int(sample[i-1,j] == k) + int(sample[i,j+1] == k) \n",
    "                elif(j == 39):\n",
    "                    #Corner\n",
    "                    for k in range(terms):\n",
    "                        theta[k] = int(sample[i-1,j] == k) + int(sample[i,j-1] == k) \n",
    "                else:\n",
    "                    #side\n",
    "                    for k in range(terms):\n",
    "                        theta[k] = int(sample[i,j+1] == k) + int(sample[i,j-1] == k) + int(sample[i-1,j] == k) \n",
    "            else:\n",
    "                if(j == 0):\n",
    "                    #side\n",
    "                    for k in range(terms):\n",
    "                        theta[k] = int(sample[i,j+1] == k) + int(sample[i+1,j] == k)+ int(sample[i-1,j] == k) \n",
    "                elif(j == 39):\n",
    "                    #side\n",
    "                    for k in range(terms):\n",
    "                        theta[k] = int(sample[i,j-1] == k) + int(sample[i+1,j] == k) + int(sample[i-1,j] == k) \n",
    "                else:\n",
    "                    #inside\n",
    "                    for k in range(terms):\n",
    "                        theta[k] = int(sample[i,j+1] == k) + int(sample[i,j-1] == k) + int(sample[i+1,j] == k) + int(sample[i-1,j] == k) \n",
    "            for k in range(terms):\n",
    "                theta[k] += int(sample[i,j] == k) * 10\n",
    "            theta = theta * J\n",
    "            theta = softmax(theta)\n",
    "            sample[i,j] = np.random.choice(terms, 1, p=theta)\n",
    "print(sample)\n",
    "            "
   ]
  },
  {
   "cell_type": "code",
   "execution_count": 112,
   "metadata": {},
   "outputs": [
    {
     "data": {
      "text/plain": [
       "<matplotlib.image.AxesImage at 0x7f86e2239460>"
      ]
     },
     "execution_count": 112,
     "metadata": {},
     "output_type": "execute_result"
    },
    {
     "data": {
      "image/png": "[encoded data removed]",
      "text/plain": [
       "<Figure size 432x288 with 1 Axes>"
      ]
     },
     "metadata": {
      "needs_background": "light"
     },
     "output_type": "display_data"
    }
   ],
   "source": [
    "cmap_list = ['xkcd:pale yellow', 'white', 'xkcd:light pink', 'xkcd:peach', 'xkcd:beige',\n",
    "                 'xkcd:salmon', 'xkcd:lilac', 'xkcd:orangered',\n",
    "                 'xkcd:tan', 'xkcd:puke green', 'xkcd:rose',\n",
    "                 'xkcd:seafoam green', 'xkcd:grass green', 'xkcd:baby blue',\n",
    "                 'xkcd:olive', 'xkcd:forest green', 'xkcd:deep blue',\n",
    "                 'xkcd:purple blue', 'xkcd:chocolate', 'xkcd:charcoal', \n",
    "                 'xkcd:fuschia', 'xkcd:greyish purple']\n",
    "cmap = ListedColormap(cmap_list[:terms])\n",
    "plt.imshow(sample[1:-1,1:], cmap = cmap)\n"
   ]
  },
  {
   "cell_type": "code",
   "execution_count": 106,
   "metadata": {},
   "outputs": [
    {
     "data": {
      "text/plain": [
       "<matplotlib.image.AxesImage at 0x7f86e3eaab50>"
      ]
     },
     "execution_count": 106,
     "metadata": {},
     "output_type": "execute_result"
    },
    {
     "data": {
      "image/png": "[encoded data removed]",
      "text/plain": [
       "<Figure size 432x288 with 1 Axes>"
      ]
     },
     "metadata": {
      "needs_background": "light"
     },
     "output_type": "display_data"
    }
   ],
   "source": [
    "plt.imshow(majority, cmap = cmap)"
   ]
  },
  {
   "cell_type": "code",
   "execution_count": 110,
   "metadata": {},
   "outputs": [
    {
     "name": "stdout",
     "output_type": "stream",
     "text": [
      "[[ 1  1  1  1  1  1  1  4  4  4  4  4  4  4  1  1  1  9  9  9  9  9  9  9\n",
      "   9  9  1  1  1  1  1  1  1  1  1  1  1  1  1  1]\n",
      " [13 13 13 13  4  4  4  4  4  4  4  4  4  6  6  6  6  6  6  6  9  9  9  9\n",
      "   9  9  9  9  9  9  1  1  1 16 16 16 13 13 13 13]\n",
      " [13 13 13 13  4  4  4  4  4  4  4  4  6  6  6  6  6  6  6  6  6  9  9  9\n",
      "   9  9  9  9  9  9  9 16 16 16 16 16 13 13 13 13]\n",
      " [13 13 13 13 15  4  4  4  4  4  4  6  6  6  6  6  6  6  6  6  6  6  9  9\n",
      "   9  9  9  9  9  9  9 16 16 16 16 16 13 13 13 13]\n",
      " [ 3  3  3  3 11 11 11 11 11  4  6  6  6  6  6  6  6  6  6  6  6  6  6  9\n",
      "   9  9  9  8  8  8  8 10 10 10 10 10 13 13 13  3]\n",
      " [ 3  3  3  3 11 11 11 11 11 11  6  6  6  6  6  6  6  6  6  6  6  6  6  8\n",
      "   8  8  8  8  8  8  8 10 10 10 10 10 10 10 10  3]\n",
      " [ 3  3  3  3 11 11 11 11 11 11  6  6  6  6  6  6  6  6  6  6  6  6  6  8\n",
      "   8  8  8  8  8  8  8 10 10 10 10 10 10 10 10 21]\n",
      " [21 21 21 11 11 11 11  2  2  2  2  2  2  2  6  6  6  6  6  6  6  6  6  8\n",
      "  -2  8  8  8  8  8  8 10 10 10 10 10 10 10 10 10]]\n"
     ]
    }
   ],
   "source": [
    "print(sample[1:-1,1:])"
   ]
  },
  {
   "cell_type": "code",
   "execution_count": 111,
   "metadata": {},
   "outputs": [
    {
     "name": "stdout",
     "output_type": "stream",
     "text": [
      "[[ 1  1 17  1  1 -2  1  1  4  4  4  4  4  4  1  1  1  9  9  9  9  9  9  1\n",
      "   9  9  1  1  1  1  1  1  1  1  1  1  1  1  1  1]\n",
      " [13 13 13 13 13  4  4  4  4  4  4  4  4  6  6  6  6  6  9  6  9  9  9  9\n",
      "   9  9  9  9  9  9  1  1  1 -2 16 16 13 13 13 13]\n",
      " [13 13 13 13  4  4  4  4  4  4  4  4  6  6  6  6  6  6  6  6  6  9  9  9\n",
      "   9  9  9  9  9  9  9 16 16 16 16 16 13 13 13 13]\n",
      " [13 13 14 15 15 15  4  4  4  4  4  6  6  6  6  6  6  6  6  6  6  6  9  9\n",
      "   9  9  9  9  9  8 10 16 16 16 16 16 13 13 13 13]\n",
      " [ 3  3  3 -2 15 11 11 11 11  4  6  6  6  6  6  6  6  6  6  6  6  6  6  9\n",
      "   9  9  9  8  8  8  8 10 10 10 10 10 13 13 13  3]\n",
      " [ 3  3  3  3 11 11 11 11 11 11  6  6  6  6  6  6  6  6  6  6  6  6  6  6\n",
      "   8  8  8  8  8  8  8 10 10 10 10 10 10 28 28  3]\n",
      " [ 3  3  3  3 11 11 11 11 11  2  2  6  6  6  6  6  6  6  6  6  6  6  6  8\n",
      "   8  8  8  8  8  8  8 10 10 10 10 10 10 10 10 21]\n",
      " [21 21 21 11 11 11 11  2  2  2  2  2  2  2  6  6  6  6  6  6  6  6  6  8\n",
      "  -2  8  8  8  8  8  8 10 10 10 10 10 10 10 10 10]]\n"
     ]
    }
   ],
   "source": [
    "print(majority)"
   ]
  },
  {
   "cell_type": "code",
   "execution_count": null,
   "metadata": {},
   "outputs": [],
   "source": []
  },
  {
   "cell_type": "code",
   "execution_count": null,
   "metadata": {},
   "outputs": [],
   "source": []
  }
 ],
 "metadata": {
  "kernelspec": {
   "display_name": "Python 3",
   "language": "python",
   "name": "python3"
  },
  "language_info": {
   "codemirror_mode": {
    "name": "ipython",
    "version": 3
   },
   "file_extension": ".py",
   "mimetype": "text/x-python",
   "name": "python",
   "nbconvert_exporter": "python",
   "pygments_lexer": "ipython3",
   "version": "3.8.5"
  }
 },
 "nbformat": 4,
 "nbformat_minor": 5
}
