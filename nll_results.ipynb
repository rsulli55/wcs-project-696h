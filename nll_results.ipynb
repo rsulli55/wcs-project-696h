{
 "cells": [
  {
   "cell_type": "code",
   "execution_count": 2,
   "id": "8418479a-1bbc-4e43-908e-5590f08631f0",
   "metadata": {},
   "outputs": [],
   "source": [
    "import numpy as np\n",
    "import pandas as pd\n",
    "import matplotlib.pyplot as plt\n",
    "from matplotlib.colors import ListedColormap\n",
    "import matplotlib.ticker as ticker\n",
    "import matplotlib.cm\n",
    "\n",
    "import wcs\n",
    "\n",
    "LANGS_TO_CHECK = [16, 17, 20, 32, 36]\n",
    "HOLD_OUT_FRACTION = 0.15"
   ]
  },
  {
   "cell_type": "code",
   "execution_count": 3,
   "id": "220d7f0a-315e-4a3f-a86e-6f5d1d4ebfd4",
   "metadata": {},
   "outputs": [
    {
     "name": "stdout",
     "output_type": "stream",
     "text": [
      "Running simple NLL experiment for language 16\n",
      "--------------------\n",
      "Over 100 runs of the experiment found\n",
      " NLL Ave =           1217.55856      NLL std dev =             70.62599\n",
      "Prob Ave =             72.68000     Prob std dev =            17.52548\n",
      "Running simple NLL experiment for language 17\n",
      "--------------------\n",
      "Over 100 runs of the experiment found\n",
      " NLL Ave =           1523.47913      NLL std dev =             95.72458\n",
      "Prob Ave =             99.29000     Prob std dev =            27.11938\n",
      "Running simple NLL experiment for language 20\n",
      "--------------------\n",
      "Over 100 runs of the experiment found\n",
      " NLL Ave =            522.97175      NLL std dev =             65.97150\n",
      "Prob Ave =             52.11000     Prob std dev =            20.65824\n",
      "Running simple NLL experiment for language 32\n",
      "--------------------\n",
      "Over 100 runs of the experiment found\n",
      " NLL Ave =           1346.90080      NLL std dev =            136.07874\n",
      "Prob Ave =            108.87500     Prob std dev =            33.43511\n",
      "Running simple NLL experiment for language 36\n",
      "--------------------\n",
      "Over 100 runs of the experiment found\n",
      " NLL Ave =            440.11853      NLL std dev =             31.60760\n",
      "Prob Ave =             17.07500     Prob std dev =             5.12854\n"
     ]
    }
   ],
   "source": [
    "num_results = 100\n",
    "nll_results = np.zeros(num_results)\n",
    "prob_results = np.zeros(num_results)\n",
    "num_trials = 2\n",
    "\n",
    "\n",
    "for lang in LANGS_TO_CHECK:\n",
    "    print(f\"Running simple NLL experiment for language {lang}\")\n",
    "    print(f\"{20*'-'}\")\n",
    "    \n",
    "    for i in range(num_results):\n",
    "        nll, probs = wcs.simple_NLL_experiment(lang, num_trials, HOLD_OUT_FRACTION)\n",
    "        nll_results[i] = nll\n",
    "        prob_results[i] = probs\n",
    "        \n",
    "    print(f\"Over {num_results} runs of the experiment found\")\n",
    "    nll_ave = np.mean(nll_results)\n",
    "    nll_std_dev = np.std(nll_results)\n",
    "    prob_ave = np.mean(prob_results)\n",
    "    prob_std_dev = np.std(prob_results)\n",
    "    print(f\" NLL Ave = {nll_ave:-20.5f}{6*' '}NLL std dev = {nll_std_dev:-20.5f}\")\n",
    "    print(f\"Prob Ave = {prob_ave:-20.5f}{5*' '}Prob std dev ={prob_std_dev:-20.5f}\")\n",
    "    \n",
    "    "
   ]
  },
  {
   "cell_type": "code",
   "execution_count": 4,
   "id": "b5404142-e5e4-4da8-8e32-41178e4b7415",
   "metadata": {},
   "outputs": [
    {
     "ename": "KeyError",
     "evalue": "'TSA'",
     "output_type": "error",
     "traceback": [
      "\u001b[0;31m---------------------------------------------------------------------------\u001b[0m",
      "\u001b[0;31mKeyError\u001b[0m                                  Traceback (most recent call last)",
      "\u001b[0;32m/tmp/ipykernel_113764/1937907422.py\u001b[0m in \u001b[0;36m<module>\u001b[0;34m\u001b[0m\n\u001b[1;32m      2\u001b[0m \u001b[0mnum_trials\u001b[0m \u001b[0;34m=\u001b[0m \u001b[0;36m10\u001b[0m\u001b[0;34m\u001b[0m\u001b[0;34m\u001b[0m\u001b[0m\n\u001b[1;32m      3\u001b[0m \u001b[0;32mfor\u001b[0m \u001b[0mlang\u001b[0m \u001b[0;32min\u001b[0m \u001b[0mwcs\u001b[0m\u001b[0;34m.\u001b[0m\u001b[0mALL_LANGS\u001b[0m\u001b[0;34m:\u001b[0m\u001b[0;34m\u001b[0m\u001b[0;34m\u001b[0m\u001b[0m\n\u001b[0;32m----> 4\u001b[0;31m     \u001b[0mnll\u001b[0m\u001b[0;34m,\u001b[0m \u001b[0mprobs\u001b[0m \u001b[0;34m=\u001b[0m \u001b[0mwcs\u001b[0m\u001b[0;34m.\u001b[0m\u001b[0msimple_NLL_experiment\u001b[0m\u001b[0;34m(\u001b[0m\u001b[0mlang\u001b[0m\u001b[0;34m,\u001b[0m \u001b[0mnum_trials\u001b[0m\u001b[0;34m,\u001b[0m \u001b[0mHOLD_OUT_FRACTION\u001b[0m\u001b[0;34m)\u001b[0m\u001b[0;34m\u001b[0m\u001b[0;34m\u001b[0m\u001b[0m\n\u001b[0m\u001b[1;32m      5\u001b[0m     \u001b[0mall_langs_nll\u001b[0m\u001b[0;34m[\u001b[0m\u001b[0mlang\u001b[0m\u001b[0;34m]\u001b[0m \u001b[0;34m=\u001b[0m \u001b[0mnll\u001b[0m\u001b[0;34m\u001b[0m\u001b[0;34m\u001b[0m\u001b[0m\n",
      "\u001b[0;32m~/school/cs696h/wcs-project-696h/wcs.py\u001b[0m in \u001b[0;36msimple_NLL_experiment\u001b[0;34m(language, num_trials, fraction)\u001b[0m\n\u001b[1;32m    503\u001b[0m         \u001b[0;31m# print(\"------------------------------------------------------------------\\n\")\u001b[0m\u001b[0;34m\u001b[0m\u001b[0;34m\u001b[0m\u001b[0m\n\u001b[1;32m    504\u001b[0m         \u001b[0mho_speakers\u001b[0m \u001b[0;34m=\u001b[0m \u001b[0mbuild_rand_set_of_speakers\u001b[0m\u001b[0;34m(\u001b[0m\u001b[0mlanguage\u001b[0m\u001b[0;34m,\u001b[0m \u001b[0mfraction\u001b[0m\u001b[0;34m)\u001b[0m\u001b[0;34m\u001b[0m\u001b[0;34m\u001b[0m\u001b[0m\n\u001b[0;32m--> 505\u001b[0;31m         \u001b[0mwc\u001b[0m\u001b[0;34m,\u001b[0m \u001b[0mho\u001b[0m \u001b[0;34m=\u001b[0m \u001b[0mbuild_held_out_word_count\u001b[0m\u001b[0;34m(\u001b[0m\u001b[0mlanguage\u001b[0m\u001b[0;34m,\u001b[0m \u001b[0mho_speakers\u001b[0m\u001b[0;34m)\u001b[0m\u001b[0;34m\u001b[0m\u001b[0;34m\u001b[0m\u001b[0m\n\u001b[0m\u001b[1;32m    506\u001b[0m         \u001b[0mmodel\u001b[0m \u001b[0;34m=\u001b[0m \u001b[0mbuild_simple_model\u001b[0m\u001b[0;34m(\u001b[0m\u001b[0mwc\u001b[0m\u001b[0;34m)\u001b[0m\u001b[0;34m\u001b[0m\u001b[0;34m\u001b[0m\u001b[0m\n\u001b[1;32m    507\u001b[0m         \u001b[0mnll\u001b[0m\u001b[0;34m,\u001b[0m \u001b[0mprobs\u001b[0m \u001b[0;34m=\u001b[0m \u001b[0mcompute_simple_NLL\u001b[0m\u001b[0;34m(\u001b[0m\u001b[0mho\u001b[0m\u001b[0;34m,\u001b[0m \u001b[0mmodel\u001b[0m\u001b[0;34m)\u001b[0m\u001b[0;34m\u001b[0m\u001b[0;34m\u001b[0m\u001b[0m\n",
      "\u001b[0;32m~/school/cs696h/wcs-project-696h/wcs.py\u001b[0m in \u001b[0;36mbuild_held_out_word_count\u001b[0;34m(language, speakers)\u001b[0m\n\u001b[1;32m    449\u001b[0m                 \u001b[0;32massert\u001b[0m\u001b[0;34m(\u001b[0m\u001b[0mlen\u001b[0m\u001b[0;34m(\u001b[0m\u001b[0mlang_terms\u001b[0m\u001b[0;34m[\u001b[0m\u001b[0msubset\u001b[0m\u001b[0;34m]\u001b[0m\u001b[0;34m[\u001b[0m\u001b[0;34m'term_abbrev'\u001b[0m\u001b[0;34m]\u001b[0m\u001b[0;34m)\u001b[0m \u001b[0;34m==\u001b[0m \u001b[0;36m1\u001b[0m\u001b[0;34m)\u001b[0m\u001b[0;34m\u001b[0m\u001b[0;34m\u001b[0m\u001b[0m\n\u001b[1;32m    450\u001b[0m             \u001b[0mabbrev\u001b[0m \u001b[0;34m=\u001b[0m \u001b[0mlang_terms\u001b[0m\u001b[0;34m[\u001b[0m\u001b[0msubset\u001b[0m\u001b[0;34m]\u001b[0m\u001b[0;34m[\u001b[0m\u001b[0;34m'term_abbrev'\u001b[0m\u001b[0;34m]\u001b[0m\u001b[0;34m.\u001b[0m\u001b[0miloc\u001b[0m\u001b[0;34m[\u001b[0m\u001b[0;36m0\u001b[0m\u001b[0;34m]\u001b[0m\u001b[0;34m\u001b[0m\u001b[0;34m\u001b[0m\u001b[0m\n\u001b[0;32m--> 451\u001b[0;31m             \u001b[0mresponses\u001b[0m\u001b[0;34m[\u001b[0m\u001b[0mchip\u001b[0m\u001b[0;34m]\u001b[0m \u001b[0;34m=\u001b[0m \u001b[0mtermabbrev_map\u001b[0m\u001b[0;34m[\u001b[0m\u001b[0mabbrev\u001b[0m\u001b[0;34m]\u001b[0m\u001b[0;34m-\u001b[0m\u001b[0;36m1\u001b[0m\u001b[0;34m\u001b[0m\u001b[0;34m\u001b[0m\u001b[0m\n\u001b[0m\u001b[1;32m    452\u001b[0m         \u001b[0mheld_out\u001b[0m\u001b[0;34m[\u001b[0m\u001b[0mspeaker\u001b[0m\u001b[0;34m]\u001b[0m \u001b[0;34m=\u001b[0m \u001b[0mresponses\u001b[0m\u001b[0;34m\u001b[0m\u001b[0;34m\u001b[0m\u001b[0m\n\u001b[1;32m    453\u001b[0m \u001b[0;34m\u001b[0m\u001b[0m\n",
      "\u001b[0;31mKeyError\u001b[0m: 'TSA'"
     ]
    }
   ],
   "source": [
    "all_langs_nll = np.zeros(wcs.NUM_LANGS)\n",
    "num_trials = 10\n",
    "for lang in wcs.ALL_LANGS:\n",
    "    nll, probs = wcs.simple_NLL_experiment(lang, num_trials, HOLD_OUT_FRACTION)\n",
    "    all_langs_nll[lang] = nll"
   ]
  },
  {
   "cell_type": "code",
   "execution_count": null,
   "id": "9659fdfe-eefe-41b2-9c23-4061280941cf",
   "metadata": {},
   "outputs": [],
   "source": []
  },
  {
   "cell_type": "code",
   "execution_count": null,
   "id": "60d0495e-2bd5-4509-aafc-336c13770716",
   "metadata": {},
   "outputs": [],
   "source": []
  }
 ],
 "metadata": {
  "kernelspec": {
   "display_name": "Python 3 (ipykernel)",
   "language": "python",
   "name": "python3"
  },
  "language_info": {
   "codemirror_mode": {
    "name": "ipython",
    "version": 3
   },
   "file_extension": ".py",
   "mimetype": "text/x-python",
   "name": "python",
   "nbconvert_exporter": "python",
   "pygments_lexer": "ipython3",
   "version": "3.9.7"
  }
 },
 "nbformat": 4,
 "nbformat_minor": 5
}
